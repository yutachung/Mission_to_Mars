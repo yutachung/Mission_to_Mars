{
 "cells": [
  {
   "cell_type": "code",
   "execution_count": 1,
   "id": "1c98dd46",
   "metadata": {},
   "outputs": [],
   "source": [
    "# Import Splinter, BeautifulSoup, and Pandas\n",
    "from splinter import Browser\n",
    "from bs4 import BeautifulSoup as soup\n",
    "import pandas as pd\n",
    "from webdriver_manager.chrome import ChromeDriverManager"
   ]
  },
  {
   "cell_type": "code",
   "execution_count": 2,
   "id": "7e8b171f",
   "metadata": {},
   "outputs": [
    {
     "name": "stderr",
     "output_type": "stream",
     "text": [
      "\n",
      "\n",
      "====== WebDriver manager ======\n",
      "Current google-chrome version is 94.0.4606\n",
      "Get LATEST driver version for 94.0.4606\n",
      "Driver [C:\\Users\\yutac\\.wdm\\drivers\\chromedriver\\win32\\94.0.4606.61\\chromedriver.exe] found in cache\n"
     ]
    }
   ],
   "source": [
    "# Set the executable path and initialize Splinter\n",
    "executable_path = {'executable_path': ChromeDriverManager().install()}\n",
    "browser = Browser('chrome', **executable_path, headless=False)"
   ]
  },
  {
   "cell_type": "code",
   "execution_count": 18,
   "id": "4c14f637",
   "metadata": {},
   "outputs": [
    {
     "data": {
      "text/plain": [
       "'Valles Marineris Hemisphere Enhanced'"
      ]
     },
     "execution_count": 18,
     "metadata": {},
     "output_type": "execute_result"
    }
   ],
   "source": [
    "hemisphere_image_urls = []\n",
    "\n",
    "# 3. Write code to retrieve the image urls and titles for each hemisphere.\n",
    "mars_url = 'https://astrogeology.usgs.gov/search/map/Mars/Viking/valles_marineris_enhanced'\n",
    "browser.visit(mars_url)\n",
    "html = browser.html\n",
    "img_soup = soup(html, 'html.parser')\n",
    "img_url_rel = img_soup.find('img', class_='wide-image').get('src')\n",
    "img_url_rel\n",
    "img_url = f'https://astrogeology.usgs.gov{img_url_rel}'\n",
    "img_url\n",
    "title = img_soup.find('h2', class_='title').get_text()\n",
    "title\n"
   ]
  },
  {
   "cell_type": "code",
   "execution_count": 17,
   "id": "3a693463",
   "metadata": {
    "scrolled": true
   },
   "outputs": [
    {
     "data": {
      "text/plain": [
       "'Valles Marineris Hemisphere Enhanced'"
      ]
     },
     "execution_count": 17,
     "metadata": {},
     "output_type": "execute_result"
    }
   ],
   "source": [
    "img_soup.find('h2', class_='title').get_text()"
   ]
  },
  {
   "cell_type": "code",
   "execution_count": null,
   "id": "d19067ba",
   "metadata": {},
   "outputs": [],
   "source": [
    "final_list = []\n",
    "\n",
    "list_of_links = ['https://astrogeology.usgs.gov/search/map/Mars/Viking/cerberus_enhanced',\n",
    "                'https://astrogeology.usgs.gov/search/map/Mars/Viking/schiaparelli_enhanced',\n",
    "                'https://astrogeology.usgs.gov/search/map/Mars/Viking/syrtis_major_enhanced',\n",
    "                'https://astrogeology.usgs.gov/search/map/Mars/Viking/valles_marineris_enhanced']\n",
    "for link in list_of_links:\n",
    "    browser.visit(link)\n",
    "    html = browser.html\n",
    "    bs = soup(html, 'html.parser')\n",
    "    img_url_rel = bs.find('img', class_='wide-image').get('src')\n",
    "    img_url = f'https://astrogeology.usgs.gov{img_url_rel}'\n",
    "    title = bs.find('h2', class_='title').get_text()\n",
    "    final_list.append({\"title\":title, \"img_url\":img_url})\n",
    "    "
   ]
  }
 ],
 "metadata": {
  "kernelspec": {
   "display_name": "PythonData",
   "language": "python",
   "name": "pythondata"
  },
  "language_info": {
   "codemirror_mode": {
    "name": "ipython",
    "version": 3
   },
   "file_extension": ".py",
   "mimetype": "text/x-python",
   "name": "python",
   "nbconvert_exporter": "python",
   "pygments_lexer": "ipython3",
   "version": "3.8.11"
  }
 },
 "nbformat": 4,
 "nbformat_minor": 5
}
